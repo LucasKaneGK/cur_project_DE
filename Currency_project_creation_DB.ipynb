{
 "cells": [
  {
   "cell_type": "code",
   "execution_count": 1,
   "id": "d7f862f2",
   "metadata": {},
   "outputs": [
    {
     "name": "stderr",
     "output_type": "stream",
     "text": [
      "WARNING: User-defined SPARK_HOME (/opt/cloudera/parcels/CDH-6.2.0-1.cdh6.2.0.p0.967373/lib/spark) overrides detected (/opt/cloudera/parcels/CDH/lib/spark).\n",
      "WARNING: Running spark-class from user-defined location.\n",
      "Setting default log level to \"WARN\".\n",
      "To adjust logging level use sc.setLogLevel(newLevel). For SparkR, use setLogLevel(newLevel).\n",
      "23/09/06 08:52:50 WARN lineage.LineageWriter: Lineage directory /var/log/spark/lineage doesn't exist or is not writable. Lineage for this application will be disabled.\n"
     ]
    }
   ],
   "source": [
    "import bs4\n",
    "import requests\n",
    "from datetime import datetime\n",
    "import sys\n",
    "import numpy as np\n",
    "import pandas as pd\n",
    "import os\n",
    "from pyspark import SparkContext\n",
    "from pyspark.sql import SQLContext\n",
    "import pyspark.sql.types as sqlt\n",
    "import pyspark.sql.functions as sqlf\n",
    "from pyspark import SparkConf\n",
    "\n",
    "try:\n",
    "    sc.stop()\n",
    "except:\n",
    "    pass\n",
    "os.environ['PYSPARK_PYTHON'] = sys.executable\n",
    "os.environ['PYSPARK_DRIVER_PYTHON'] = sys.executable\n",
    "\n",
    "conf = SparkConf()\n",
    "conf.setMaster('local')\n",
    "conf.setAppName('spark-test')\n",
    "sc = SparkContext(conf=conf)\n",
    "\n",
    "sqlContext = SQLContext(sc)\n",
    "sqlContext = SQLContext(sc)\n",
    "spark = sqlContext\n",
    "sql = spark.sql"
   ]
  },
  {
   "cell_type": "code",
   "execution_count": 2,
   "id": "ef24a48b",
   "metadata": {},
   "outputs": [
    {
     "name": "stderr",
     "output_type": "stream",
     "text": [
      "/opt/conda3/lib/python3.7/site-packages/bs4/builder/__init__.py:546: XMLParsedAsHTMLWarning: It looks like you're parsing an XML document using an HTML parser. If this really is an HTML document (maybe it's XHTML?), you can ignore or filter this warning. If it's XML, you should know that using an XML parser will be more reliable. To parse this document as XML, make sure you have the lxml package installed, and pass the keyword argument `features=\"xml\"` into the BeautifulSoup constructor.\n",
      "  XMLParsedAsHTMLWarning.MESSAGE, XMLParsedAsHTMLWarning\n"
     ]
    }
   ],
   "source": [
    "current_date = datetime.now()\n",
    "day = current_date.day\n",
    "year = current_date.year\n",
    "mon = current_date.month\n",
    "if day < 10:\n",
    "    day = '0' + str(day)\n",
    "if mon < 10:\n",
    "    mon = '0' + str(mon)\n",
    "    \n",
    "url = 'http://www.cbr.ru/scripts/XML_daily.asp?date_req={0}/{1}/{2}'.format(day,mon,year)\n",
    "\n",
    "cur_date = url[-10:]\n",
    "\n",
    "url_code = requests.get(url)\n",
    "soup = bs4.BeautifulSoup(url_code.text, 'html.parser')\n",
    "\n",
    "name = soup.find_all('name')\n",
    "value = soup.find_all('value')\n",
    "charcode = soup.find_all('charcode')\n",
    "nominal = soup.find_all('nominal')\n",
    "numcode = soup.find_all('numcode')"
   ]
  },
  {
   "cell_type": "code",
   "execution_count": 3,
   "id": "e9917958",
   "metadata": {},
   "outputs": [
    {
     "name": "stderr",
     "output_type": "stream",
     "text": [
      "/opt/conda3/lib/python3.7/site-packages/IPython/core/interactiveshell.py:3553: FutureWarning: Could not cast to int64, falling back to object. This behavior is deprecated. In a future version, when a dtype is passed to 'DataFrame', either all columns will be cast to that dtype, or a TypeError will be raised\n",
      "  exec(code_obj, self.user_global_ns, self.user_ns)\n",
      "/opt/conda3/lib/python3.7/site-packages/ipykernel_launcher.py:18: DeprecationWarning: `np.float` is a deprecated alias for the builtin `float`. To silence this warning, use `float` by itself. Doing this will not modify any behavior and is safe. If you specifically wanted the numpy scalar type, use `np.float64` here.\n",
      "Deprecated in NumPy 1.20; for more details and guidance: https://numpy.org/devdocs/release/1.20.0-notes.html#deprecations\n"
     ]
    }
   ],
   "source": [
    "curencies = []\n",
    "for i in range(0,len(name)):\n",
    "    row = [cur_date,\n",
    "           name[i].get_text(),\n",
    "           charcode[i].get_text(),\n",
    "           value[i].get_text().replace(',', '.'),\n",
    "           nominal[i].get_text(),\n",
    "           numcode[i].get_text(),\n",
    "           ]\n",
    "    curencies.append(row)\n",
    "    \n",
    "df = pd.DataFrame(curencies,\n",
    "                 columns=['date', 'name', 'charcode','value', 'nominal', 'numcode'],\n",
    "                 dtype = int)\n",
    "\n",
    "df = df.astype({'nominal': np.int64,\n",
    "               'numcode': np.int64,\n",
    "               'value': np.float}\n",
    "               )"
   ]
  },
  {
   "cell_type": "code",
   "execution_count": 4,
   "id": "cea6af22",
   "metadata": {},
   "outputs": [
    {
     "name": "stderr",
     "output_type": "stream",
     "text": [
      "23/09/06 08:53:02 WARN lineage.LineageWriter: Lineage directory /var/log/spark/lineage doesn't exist or is not writable. Lineage for this application will be disabled.\n"
     ]
    }
   ],
   "source": [
    "df_spark = spark.createDataFrame(df)"
   ]
  },
  {
   "cell_type": "code",
   "execution_count": 5,
   "id": "9c7f71f3",
   "metadata": {},
   "outputs": [
    {
     "name": "stderr",
     "output_type": "stream",
     "text": [
      "\r",
      "[Stage 0:>                                                          (0 + 1) / 1]"
     ]
    },
    {
     "name": "stdout",
     "output_type": "stream",
     "text": [
      "+----------+--------------------+--------+--------+-------+-------+\n",
      "|      date|                name|charcode|   value|nominal|numcode|\n",
      "+----------+--------------------+--------+--------+-------+-------+\n",
      "|06/09/2023|Австралийский доллар|     AUD| 62.4343|      1|     36|\n",
      "|06/09/2023|Азербайджанский м...|     AZN| 57.3755|      1|    944|\n",
      "|06/09/2023|Фунт стерлингов С...|     GBP|123.0738|      1|    826|\n",
      "|06/09/2023|    Армянских драмов|     AMD| 25.2814|    100|     51|\n",
      "|06/09/2023|   Белорусский рубль|     BYN| 29.9611|      1|    933|\n",
      "|06/09/2023|      Болгарский лев|     BGN| 53.8648|      1|    975|\n",
      "|06/09/2023|    Бразильский реал|     BRL| 19.8357|      1|    986|\n",
      "|06/09/2023| Венгерских форинтов|     HUF| 27.2362|    100|    348|\n",
      "|06/09/2023|  Вьетнамских донгов|     VND| 40.7105|  10000|    704|\n",
      "|06/09/2023|  Гонконгский доллар|     HKD| 12.4634|      1|    344|\n",
      "|06/09/2023|     Грузинский лари|     GEL| 37.1603|      1|    981|\n",
      "|06/09/2023|       Датская крона|     DKK|  14.136|      1|    208|\n",
      "|06/09/2023|          Дирхам ОАЭ|     AED| 26.5555|      1|    784|\n",
      "|06/09/2023|          Доллар США|     USD| 97.5383|      1|    840|\n",
      "|06/09/2023|                Евро|     EUR|104.9043|      1|    978|\n",
      "|06/09/2023|   Египетских фунтов|     EGP| 31.5718|     10|    818|\n",
      "|06/09/2023|     Индийских рупий|     INR| 11.8014|     10|    356|\n",
      "|06/09/2023| Индонезийских рупий|     IDR| 63.9721|  10000|    360|\n",
      "|06/09/2023| Казахстанских тенге|     KZT| 21.2261|    100|    398|\n",
      "|06/09/2023|    Канадский доллар|     CAD|  71.825|      1|    124|\n",
      "+----------+--------------------+--------+--------+-------+-------+\n",
      "only showing top 20 rows\n",
      "\n"
     ]
    },
    {
     "name": "stderr",
     "output_type": "stream",
     "text": [
      "\r",
      "                                                                                \r"
     ]
    }
   ],
   "source": [
    "df_spark.show()"
   ]
  },
  {
   "cell_type": "code",
   "execution_count": 7,
   "id": "f75d518d",
   "metadata": {},
   "outputs": [],
   "source": [
    "sql('create schema if not exists project_currency_rates_student12')\n",
    "\n",
    "(df_spark.write\n",
    "         .option(\"path\", \"/user/hive/warehouse/project_currency_rates_student12.db/testing_currencies_cbr\")\n",
    "         .mode(\"overwrite\").format('parquet').saveAsTable(\"project_currency_rates_student12.testing_currencies_cbr\"))"
   ]
  }
 ],
 "metadata": {
  "kernelspec": {
   "display_name": "Python 3 (ipykernel)",
   "language": "python",
   "name": "python3"
  },
  "language_info": {
   "codemirror_mode": {
    "name": "ipython",
    "version": 3
   },
   "file_extension": ".py",
   "mimetype": "text/x-python",
   "name": "python",
   "nbconvert_exporter": "python",
   "pygments_lexer": "ipython3",
   "version": "3.7.16"
  }
 },
 "nbformat": 4,
 "nbformat_minor": 5
}
